{
 "cells": [
  {
   "cell_type": "code",
   "execution_count": 1,
   "metadata": {},
   "outputs": [],
   "source": [
    "import re\n",
    "import pickle\n",
    "import numpy as np\n",
    "from tensorflow.keras.models import load_model\n",
    "from tensorflow.keras.preprocessing.text import Tokenizer\n",
    "from tensorflow.keras.preprocessing.sequence import pad_sequences\n",
    "from tensorflow.keras.models import Model\n",
    "from tensorflow.keras.layers import Input, Embedding\n",
    "from tensorflow.keras.utils import plot_model"
   ]
  },
  {
   "cell_type": "code",
   "execution_count": 2,
   "metadata": {},
   "outputs": [],
   "source": [
    "model = load_model('chatbot6.h5')\n",
    "\n",
    "with open('tokenizer6.pickle', 'rb') as temp1:\n",
    "    tokenizer = pickle.load(temp1)\n",
    "with open('input_output_shapes6.pickle', 'rb') as temp2:\n",
    "    len_dict = pickle.load(temp2)\n"
   ]
  },
  {
   "cell_type": "code",
   "execution_count": 3,
   "metadata": {},
   "outputs": [
    {
     "data": {
      "text/plain": [
       "{'max_len_ques': 218, 'max_len_answ': 174}"
      ]
     },
     "execution_count": 3,
     "metadata": {},
     "output_type": "execute_result"
    }
   ],
   "source": [
    "len_dict"
   ]
  },
  {
   "cell_type": "code",
   "execution_count": 4,
   "metadata": {},
   "outputs": [
    {
     "data": {
      "text/plain": [
       "12671"
      ]
     },
     "execution_count": 4,
     "metadata": {},
     "output_type": "execute_result"
    }
   ],
   "source": [
    "len(tokenizer.word_index)"
   ]
  },
  {
   "cell_type": "code",
   "execution_count": 5,
   "metadata": {},
   "outputs": [
    {
     "data": {
      "text/plain": [
       "True"
      ]
     },
     "execution_count": 5,
     "metadata": {},
     "output_type": "execute_result"
    }
   ],
   "source": [
    "index2word = {}\n",
    "word2index = {}\n",
    "for k,v in tokenizer.word_index.items():\n",
    "    if v < 19999:\n",
    "        index2word[v] = k\n",
    "    if v > 19999:\n",
    "        continue\n",
    "    \n",
    "for k,v in index2word.items():\n",
    "    word2index[v] = k\n",
    "\n",
    "len(word2index) == len(index2word)"
   ]
  },
  {
   "cell_type": "code",
   "execution_count": 6,
   "metadata": {},
   "outputs": [],
   "source": [
    "def clean_text(text):\n",
    "    '''Clean text by removing unnecessary characters and altering the format of words.'''\n",
    "\n",
    "    text = text.lower()\n",
    "    \n",
    "    text = re.sub(r\"i'm\", \"i am\", text)\n",
    "    text = re.sub(r\"he's\", \"he is\", text)\n",
    "    text = re.sub(r\"she's\", \"she is\", text)\n",
    "    text = re.sub(r\"it's\", \"it is\", text)\n",
    "    text = re.sub(r\"that's\", \"that is\", text)\n",
    "    text = re.sub(r\"what's\", \"that is\", text)\n",
    "    text = re.sub(r\"where's\", \"where is\", text)\n",
    "    text = re.sub(r\"how's\", \"how is\", text)\n",
    "    text = re.sub(r\"\\'ll\", \" will\", text)\n",
    "    text = re.sub(r\"\\'ve\", \" have\", text)\n",
    "    text = re.sub(r\"\\'re\", \" are\", text)\n",
    "    text = re.sub(r\"\\'d\", \" would\", text)\n",
    "    text = re.sub(r\"\\'re\", \" are\", text)\n",
    "    text = re.sub(r\"won't\", \"will not\", text)\n",
    "    text = re.sub(r\"can't\", \"cannot\", text)\n",
    "    text = re.sub(r\"n't\", \" not\", text)\n",
    "    text = re.sub(r\"n'\", \"ng\", text)\n",
    "    text = re.sub(r\"'bout\", \"about\", text)\n",
    "    text = re.sub(r\"'til\", \"until\", text)\n",
    "    text = re.sub(r\"[-()\\\"#/@;:<>{}`+=~|.!?,]\", \"\", text)\n",
    "    \n",
    "    return text"
   ]
  },
  {
   "cell_type": "code",
   "execution_count": 7,
   "metadata": {},
   "outputs": [],
   "source": [
    "bos = \"<sos>\"\n",
    "eos = \" <eos>\"\n",
    "VOCAB_SIZE = len(index2word) + 1"
   ]
  },
  {
   "cell_type": "code",
   "execution_count": 8,
   "metadata": {},
   "outputs": [],
   "source": [
    "inp_len = len_dict['max_len_ques']\n",
    "out_len = len_dict['max_len_answ']"
   ]
  },
  {
   "cell_type": "code",
   "execution_count": 9,
   "metadata": {},
   "outputs": [],
   "source": [
    "def process_input(text, MAX_LEN = inp_len):\n",
    "    text = [clean_text(text)]\n",
    "    token_text = tokenizer.texts_to_sequences(text)\n",
    "    padded_seq = pad_sequences(token_text, maxlen = inp_len, dtype='int32',\n",
    "                                     padding='post', truncating='post')\n",
    "\n",
    "    return padded_seq"
   ]
  },
  {
   "cell_type": "code",
   "execution_count": 10,
   "metadata": {},
   "outputs": [
    {
     "name": "stdout",
     "output_type": "stream",
     "text": [
      "Model: \"model\"\n",
      "__________________________________________________________________________________________________\n",
      "Layer (type)                    Output Shape         Param #     Connected to                     \n",
      "==================================================================================================\n",
      "input_1 (InputLayer)            [(None, 218)]        0                                            \n",
      "__________________________________________________________________________________________________\n",
      "input_2 (InputLayer)            [(None, 174)]        0                                            \n",
      "__________________________________________________________________________________________________\n",
      "embedding (Embedding)           (None, 218, 50)      633600      input_1[0][0]                    \n",
      "__________________________________________________________________________________________________\n",
      "embedding_1 (Embedding)         (None, 174, 128)     1622016     input_2[0][0]                    \n",
      "__________________________________________________________________________________________________\n",
      "lstm (LSTM)                     [(None, 128), (None, 91648       embedding[0][0]                  \n",
      "__________________________________________________________________________________________________\n",
      "lstm_1 (LSTM)                   [(None, 174, 128), ( 131584      embedding_1[0][0]                \n",
      "                                                                 lstm[0][1]                       \n",
      "                                                                 lstm[0][2]                       \n",
      "__________________________________________________________________________________________________\n",
      "time_distributed (TimeDistribut (None, 174, 12672)   1634688     lstm_1[0][0]                     \n",
      "==================================================================================================\n",
      "Total params: 4,113,536\n",
      "Trainable params: 4,113,536\n",
      "Non-trainable params: 0\n",
      "__________________________________________________________________________________________________\n"
     ]
    }
   ],
   "source": [
    "model.summary()"
   ]
  },
  {
   "cell_type": "code",
   "execution_count": 11,
   "metadata": {},
   "outputs": [
    {
     "data": {
      "image/png": "[encoded data removed]",
      "text/plain": [
       "<IPython.core.display.Image object>"
      ]
     },
     "execution_count": 11,
     "metadata": {},
     "output_type": "execute_result"
    }
   ],
   "source": [
    "plot_model(model, show_shapes=True, show_layer_names=True)"
   ]
  },
  {
   "cell_type": "code",
   "execution_count": 12,
   "metadata": {},
   "outputs": [],
   "source": [
    "def create_encmodel(tr_mod, HIDDEN_DIM=128):\n",
    "    encoder_inputs = tr_mod.input[0]\n",
    "    encoder_outputs, state_h_enc, state_c_enc = tr_mod.get_layer('lstm').output\n",
    "    encoder_states = [state_h_enc, state_c_enc]\n",
    "    encoder_model = Model(encoder_inputs, [encoder_outputs, encoder_states])\n",
    "\n",
    "    return encoder_model"
   ]
  },
  {
   "cell_type": "code",
   "execution_count": 13,
   "metadata": {},
   "outputs": [],
   "source": [
    "def create_decmodel(tr_mod, HIDDEN_DIM = 128):\n",
    "    decoder_inputs = tr_mod.input[1]\n",
    "    decoder_state_input_h = Input(shape=(HIDDEN_DIM, ), name='input_3')\n",
    "    decoder_state_input_c = Input(shape=(HIDDEN_DIM, ), name='input_4')\n",
    "    dec_state_inputs = [decoder_state_input_h, decoder_state_input_c]\n",
    "    \n",
    "    dec_embed = tr_mod.get_layer('embedding_1')(decoder_inputs)\n",
    "    dec_lstm = tr_mod.get_layer('lstm_1')\n",
    "    \n",
    "    dec_outputs, dec_state_h_out, dec_state_c_out = dec_lstm(dec_embed, initial_state=dec_state_inputs)\n",
    "    dec_state_outputs = [dec_state_h_out, dec_state_c_out]\n",
    "    decoder_dense = tr_mod.get_layer('time_distributed')\n",
    "    decoder_outputs = decoder_dense(dec_outputs)\n",
    "    decoder_model = Model(\n",
    "    [decoder_inputs,  dec_state_inputs],\n",
    "    [decoder_outputs] + dec_state_outputs)\n",
    "    \n",
    "    return decoder_model"
   ]
  },
  {
   "cell_type": "code",
   "execution_count": 14,
   "metadata": {},
   "outputs": [
    {
     "name": "stdout",
     "output_type": "stream",
     "text": [
      "Model: \"model\"\n",
      "_________________________________________________________________\n",
      "Layer (type)                 Output Shape              Param #   \n",
      "=================================================================\n",
      "input_1 (InputLayer)         [(None, 218)]             0         \n",
      "_________________________________________________________________\n",
      "embedding (Embedding)        (None, 218, 50)           633600    \n",
      "_________________________________________________________________\n",
      "lstm (LSTM)                  [(None, 128), (None, 128) 91648     \n",
      "=================================================================\n",
      "Total params: 725,248\n",
      "Trainable params: 725,248\n",
      "Non-trainable params: 0\n",
      "_________________________________________________________________\n"
     ]
    }
   ],
   "source": [
    "enc_model = create_encmodel(model)\n",
    "enc_model.compile(optimizer='adam', loss ='categorical_crossentropy', metrics = ['accuracy'])\n",
    "enc_model.summary()"
   ]
  },
  {
   "cell_type": "code",
   "execution_count": 15,
   "metadata": {},
   "outputs": [
    {
     "name": "stdout",
     "output_type": "stream",
     "text": [
      "Model: \"model_1\"\n",
      "__________________________________________________________________________________________________\n",
      "Layer (type)                    Output Shape         Param #     Connected to                     \n",
      "==================================================================================================\n",
      "input_2 (InputLayer)            [(None, 174)]        0                                            \n",
      "__________________________________________________________________________________________________\n",
      "embedding_1 (Embedding)         (None, 174, 128)     1622016     input_2[0][0]                    \n",
      "__________________________________________________________________________________________________\n",
      "input_3 (InputLayer)            [(None, 128)]        0                                            \n",
      "__________________________________________________________________________________________________\n",
      "input_4 (InputLayer)            [(None, 128)]        0                                            \n",
      "__________________________________________________________________________________________________\n",
      "lstm_1 (LSTM)                   [(None, 174, 128), ( 131584      embedding_1[1][0]                \n",
      "                                                                 input_3[0][0]                    \n",
      "                                                                 input_4[0][0]                    \n",
      "__________________________________________________________________________________________________\n",
      "time_distributed (TimeDistribut (None, 174, 12672)   1634688     lstm_1[1][0]                     \n",
      "==================================================================================================\n",
      "Total params: 3,388,288\n",
      "Trainable params: 3,388,288\n",
      "Non-trainable params: 0\n",
      "__________________________________________________________________________________________________\n"
     ]
    }
   ],
   "source": [
    "dec_model = create_decmodel(model)\n",
    "dec_model.compile(optimizer='adam', loss ='categorical_crossentropy', metrics = ['accuracy'])\n",
    "dec_model.summary()"
   ]
  },
  {
   "cell_type": "code",
   "execution_count": 16,
   "metadata": {},
   "outputs": [
    {
     "name": "stdout",
     "output_type": "stream",
     "text": [
      "> hello computer, how are you doing today?\n",
      "WARNING:tensorflow:Model was constructed with shape (None, 174) for input KerasTensor(type_spec=TensorSpec(shape=(None, 174), dtype=tf.int32, name='input_2'), name='input_2', description=\"created by layer 'input_2'\"), but it was called on an input with incompatible shape (None, 1).\n",
      "WARNING:tensorflow:Model was constructed with shape (None, 174) for input KerasTensor(type_spec=TensorSpec(shape=(None, 174), dtype=tf.int32, name='input_2'), name='input_2', description=\"created by layer 'input_2'\"), but it was called on an input with incompatible shape (None, 1).\n",
      "i trying to see my name \n",
      "> Your name is computer\n",
      "sure father i am trying to be a martyr \n",
      "> How do you know I am your father?\n",
      "debbie long for life ago already told the damn what would i say \n",
      "> Is your name debbie?\n",
      "what \n",
      "> What do you call yourself?\n",
      "becoming nothing sent bit than you want to remember it to it to it to it to it \n",
      "> Stuck in a loop?\n",
      "his knock eddie \n",
      "> who is eddie?\n",
      "took don \n",
      "> eddie took don?\n",
      "who is he \n",
      "> I don't know\n",
      "becoming nothing proposal \n",
      "> Are you suggesting that I die?\n",
      "not not me up police to do it to be a martyr than a savior \n",
      "> q\n",
      "when i do not know what i get in an hour to the farm so what do you think \n",
      "Goodbye\n"
     ]
    }
   ],
   "source": [
    "prepro1 =''\n",
    "while prepro1 != 'q':\n",
    "    prepro1 = input('> ')\n",
    "    try:\n",
    "        states_values = enc_model.predict(process_input(prepro1))\n",
    "        empty_target = np.zeros((1,1))\n",
    "        empty_target[0,0] = tokenizer.word_index['<sos>']\n",
    "        stop_cond = False\n",
    "        decoded = ''\n",
    "        while not stop_cond:\n",
    "            dec_outs, h, c = dec_model.predict([empty_target] + states_values)\n",
    "            sampled_word_idx = np.argmax(dec_outs[0, -1, :])\n",
    "            sampled_word = index2word[sampled_word_idx]\n",
    "            if sampled_word != '<eos>':\n",
    "                decoded += '{} '.format(sampled_word)\n",
    "            if (sampled_word == '<eos>') or (len(decoded.split()) > out_len):\n",
    "                stop_cond = True\n",
    "            empty_target = np.zeros((1,1))\n",
    "            empty_target[0,0] = sampled_word_idx\n",
    "            states_values = [h,c]\n",
    "\n",
    "        print(decoded)\n",
    "    except:\n",
    "        print(\"Sorry didn't catch what you said,\\n could you please repeat that?\\n >\")\n",
    "print('Goodbye')"
   ]
  },
  {
   "cell_type": "code",
   "execution_count": 27,
   "metadata": {},
   "outputs": [
    {
     "name": "stdout",
     "output_type": "stream",
     "text": [
      "hello, how are you doing?\n"
     ]
    },
    {
     "data": {
      "text/plain": [
       "[array([[-9.9663919e-01, -4.2795204e-04, -5.9396587e-04,  2.5174706e-04,\n",
       "          8.2513914e-03,  9.9939102e-01, -3.9359307e-04,  9.9956816e-01,\n",
       "          3.4808923e-04,  2.5600838e-04, -5.1499084e-03,  3.3175910e-04,\n",
       "         -1.7081133e-04, -9.9492216e-01, -9.9910742e-01, -9.9946672e-01,\n",
       "         -2.7752380e-04, -9.9911296e-01, -1.9106616e-03, -5.4345437e-04,\n",
       "         -2.2621034e-02,  9.5220321e-01, -1.3182996e-01,  9.9932396e-01,\n",
       "         -9.9965709e-01, -2.5743283e-03,  5.0891761e-04, -1.2798927e-04,\n",
       "         -5.1919566e-03,  8.9230292e-02, -1.2076292e-03,  9.9925119e-01,\n",
       "         -9.3423492e-05, -9.9942410e-01,  5.1785767e-04, -9.9958032e-01,\n",
       "         -9.9899477e-01, -9.9925685e-01, -4.7452899e-04,  1.0021013e-04,\n",
       "          9.9465358e-01,  9.9938720e-01, -9.9898291e-01, -9.9953079e-01,\n",
       "         -9.8726141e-01, -9.9509096e-01, -9.9928516e-01, -9.9937457e-01,\n",
       "          1.2743804e-03,  9.9916428e-01, -9.9914747e-01,  1.5860241e-03,\n",
       "          1.9774351e-03,  9.8962462e-01,  9.9888426e-01, -1.0141814e-01,\n",
       "          4.8235494e-01, -9.9956357e-01, -2.0722643e-04,  3.8172191e-04,\n",
       "          9.9895567e-01,  9.9131703e-01,  7.2413054e-04,  1.7981087e-04]],\n",
       "       dtype=float32),\n",
       " array([[-4.999465 , -4.9973936, -4.999284 ,  4.99708  ,  4.9982467,\n",
       "          4.7144065, -4.9962974,  4.998452 ,  4.9983215,  4.997134 ,\n",
       "         -4.99784  ,  4.999362 , -4.9971924, -4.998773 , -4.9988422,\n",
       "         -4.998314 , -4.9991837, -4.997893 , -4.9983263, -4.755816 ,\n",
       "         -4.9917154,  4.998425 , -4.998761 ,  4.9981923, -4.8739157,\n",
       "         -4.998149 ,  4.9975414, -4.9969726, -4.999007 ,  4.997271 ,\n",
       "         -4.9987464,  4.998998 , -4.9970846, -4.9973946,  4.998926 ,\n",
       "         -4.9992414, -4.998186 , -4.589587 , -4.998493 ,  4.9968147,\n",
       "          4.997905 ,  4.999181 , -4.999312 , -4.9992995, -4.9979367,\n",
       "         -4.997598 , -4.9987774, -4.998395 ,  4.9987965,  4.995461 ,\n",
       "         -4.9989834,  4.9972224,  4.732495 ,  4.7164454,  4.8324347,\n",
       "         -4.9986043,  4.9990816, -4.7051945, -4.9969263,  4.860312 ,\n",
       "          4.999104 ,  4.997965 ,  4.9993362,  4.999403 ]], dtype=float32)]"
      ]
     },
     "execution_count": 27,
     "metadata": {},
     "output_type": "execute_result"
    }
   ],
   "source": [
    "enc_model.predict(process_input(input()))"
   ]
  },
  {
   "cell_type": "code",
   "execution_count": 42,
   "metadata": {},
   "outputs": [],
   "source": [
    "temp3 = np.zeros((1,out_len))\n",
    "temp3[0,0] = tokenizer.word_index['start']"
   ]
  },
  {
   "cell_type": "code",
   "execution_count": 41,
   "metadata": {},
   "outputs": [
    {
     "data": {
      "text/plain": [
       "23788"
      ]
     },
     "execution_count": 41,
     "metadata": {},
     "output_type": "execute_result"
    }
   ],
   "source": [
    "tokenizer.word_counts['end']"
   ]
  },
  {
   "cell_type": "code",
   "execution_count": null,
   "metadata": {},
   "outputs": [],
   "source": []
  }
 ],
 "metadata": {
  "kernelspec": {
   "display_name": "Python 3",
   "language": "python",
   "name": "python3"
  },
  "language_info": {
   "codemirror_mode": {
    "name": "ipython",
    "version": 3
   },
   "file_extension": ".py",
   "mimetype": "text/x-python",
   "name": "python",
   "nbconvert_exporter": "python",
   "pygments_lexer": "ipython3",
   "version": "3.6.9"
  }
 },
 "nbformat": 4,
 "nbformat_minor": 4
}
